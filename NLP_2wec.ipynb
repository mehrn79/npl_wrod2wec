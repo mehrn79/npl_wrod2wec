{
  "cells": [
    {
      "cell_type": "markdown",
      "metadata": {
        "id": "view-in-github",
        "colab_type": "text"
      },
      "source": [
        "<a href=\"https://colab.research.google.com/github/mehrn79/npl_wrod2wec/blob/main/NLP_2wec.ipynb\" target=\"_parent\"><img src=\"https://colab.research.google.com/assets/colab-badge.svg\" alt=\"Open In Colab\"/></a>"
      ]
    },
    {
      "cell_type": "markdown",
      "source": [
        "# **Word2wec implementation using skip-grams**"
      ],
      "metadata": {
        "id": "AErZn51Q2h5x"
      }
    },
    {
      "cell_type": "markdown",
      "source": [
        "##**Preprocessing**"
      ],
      "metadata": {
        "id": "WADfIeK-1T_D"
      }
    },
    {
      "cell_type": "markdown",
      "source": [
        "### **librarys for preprocessing**"
      ],
      "metadata": {
        "id": "CyONJYsR1qXi"
      }
    },
    {
      "cell_type": "code",
      "source": [
        "pip install hazm"
      ],
      "metadata": {
        "colab": {
          "base_uri": "https://localhost:8080/"
        },
        "id": "askzrES_54hc",
        "outputId": "e51c4f74-eac3-4245-b6d7-2e569ab4ab04"
      },
      "execution_count": 21,
      "outputs": [
        {
          "output_type": "stream",
          "name": "stdout",
          "text": [
            "Requirement already satisfied: hazm in /usr/local/lib/python3.7/dist-packages (0.7.0)\n",
            "Requirement already satisfied: nltk==3.3 in /usr/local/lib/python3.7/dist-packages (from hazm) (3.3)\n",
            "Requirement already satisfied: libwapiti>=0.2.1 in /usr/local/lib/python3.7/dist-packages (from hazm) (0.2.1)\n",
            "Requirement already satisfied: six in /usr/local/lib/python3.7/dist-packages (from nltk==3.3->hazm) (1.15.0)\n"
          ]
        }
      ]
    },
    {
      "cell_type": "code",
      "source": [
        "from __future__ import unicode_literals\n",
        "from hazm import *\n",
        "from keras.preprocessing import text\n",
        "from keras.preprocessing.sequence import skipgrams"
      ],
      "metadata": {
        "id": "R1t95jwN25P8"
      },
      "execution_count": 22,
      "outputs": []
    },
    {
      "cell_type": "markdown",
      "source": [
        "### **getting our corpes and stop words**"
      ],
      "metadata": {
        "id": "FxuszyHl3eQz"
      }
    },
    {
      "cell_type": "code",
      "execution_count": 23,
      "metadata": {
        "id": "LTDxjaSzJazK"
      },
      "outputs": [],
      "source": [
        "with open('/content/shams.txt') as f:\n",
        "  lines = f.readlines()\n",
        "\n",
        "with open('/content/stopwords.txt') as file:\n",
        "  lines = file.readlines()\n",
        "stopWord = [item.replace('\\n',\"\") for item in lines]\n",
        "  "
      ]
    },
    {
      "cell_type": "markdown",
      "source": [
        "### **cleaning our corpes by stop words**"
      ],
      "metadata": {
        "id": "RMjciJZD39CN"
      }
    },
    {
      "cell_type": "code",
      "execution_count": 24,
      "metadata": {
        "id": "1jjQItM2PfpF"
      },
      "outputs": [],
      "source": [
        "words= []\n",
        "for sent in lines :\n",
        "   words.append(word_tokenize(sent))\n",
        "\n",
        "corpes=[]\n",
        "for wordSent in words :\n",
        "  for word in wordSent :\n",
        "    if word in stopWord :\n",
        "      wordSent.remove(word)\n",
        "  corpes.append(' '.join(wordSent))\n",
        "\n"
      ]
    },
    {
      "cell_type": "markdown",
      "source": [
        "### **tokenize our corpes**"
      ],
      "metadata": {
        "id": "JUswmtBp42Am"
      }
    },
    {
      "cell_type": "code",
      "source": [
        "tokenizer = text.Tokenizer()\n",
        "tokenizer.fit_on_texts(corpes)\n",
        "\n",
        "word2id = tokenizer.word_index\n",
        "id2word = {v:k for k, v in word2id.items()}\n",
        "\n",
        "vocab_size = len(word2id) + 1 \n",
        "embed_size = 100\n",
        "\n",
        "sentencesID = [[word2id[w] for w in text.text_to_word_sequence(doc)] for doc in corpes]\n"
      ],
      "metadata": {
        "id": "sQ_hdg3iM7Eb"
      },
      "execution_count": 25,
      "outputs": []
    },
    {
      "cell_type": "markdown",
      "source": [
        "### **generate skip-grams**"
      ],
      "metadata": {
        "id": "bgG68Stu5Uu_"
      }
    },
    {
      "cell_type": "code",
      "source": [
        "skip_grams = [skipgrams(sentID, vocabulary_size=vocab_size, window_size=2) for sentID in sentencesID]\n"
      ],
      "metadata": {
        "id": "xaVL7hq2sB3i"
      },
      "execution_count": 26,
      "outputs": []
    },
    {
      "cell_type": "markdown",
      "source": [
        ""
      ],
      "metadata": {
        "id": "S9BiaFnQTxDg"
      }
    }
  ],
  "metadata": {
    "colab": {
      "collapsed_sections": [],
      "name": "NLP_2wec.ipynb",
      "provenance": [],
      "authorship_tag": "ABX9TyPNWcJ4xm2ODRaitO/QkUEI",
      "include_colab_link": true
    },
    "kernelspec": {
      "display_name": "Python 3",
      "name": "python3"
    },
    "language_info": {
      "name": "python"
    }
  },
  "nbformat": 4,
  "nbformat_minor": 0
}