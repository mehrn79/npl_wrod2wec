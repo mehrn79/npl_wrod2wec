{
  "cells": [
    {
      "cell_type": "markdown",
      "metadata": {
        "id": "view-in-github",
        "colab_type": "text"
      },
      "source": [
        "<a href=\"https://colab.research.google.com/github/mehrn79/npl_wrod2wec/blob/main/NLP_2wec.ipynb\" target=\"_parent\"><img src=\"https://colab.research.google.com/assets/colab-badge.svg\" alt=\"Open In Colab\"/></a>"
      ]
    },
    {
      "cell_type": "markdown",
      "source": [
        "# **Word2wec implementation using skip-grams**"
      ],
      "metadata": {
        "id": "AErZn51Q2h5x"
      }
    },
    {
      "cell_type": "markdown",
      "source": [
        "##**Preprocessing**"
      ],
      "metadata": {
        "id": "WADfIeK-1T_D"
      }
    },
    {
      "cell_type": "markdown",
      "source": [
        "### **librarys for preprocessing**"
      ],
      "metadata": {
        "id": "CyONJYsR1qXi"
      }
    },
    {
      "cell_type": "code",
      "source": [
        "pip install hazm"
      ],
      "metadata": {
        "id": "askzrES_54hc",
        "colab": {
          "base_uri": "https://localhost:8080/"
        },
        "outputId": "5d4502c4-043c-45c4-b153-bbdf19f7c30b"
      },
      "execution_count": 75,
      "outputs": [
        {
          "output_type": "stream",
          "name": "stdout",
          "text": [
            "Requirement already satisfied: hazm in /usr/local/lib/python3.7/dist-packages (0.7.0)\n",
            "Requirement already satisfied: libwapiti>=0.2.1 in /usr/local/lib/python3.7/dist-packages (from hazm) (0.2.1)\n",
            "Requirement already satisfied: nltk==3.3 in /usr/local/lib/python3.7/dist-packages (from hazm) (3.3)\n",
            "Requirement already satisfied: six in /usr/local/lib/python3.7/dist-packages (from nltk==3.3->hazm) (1.15.0)\n"
          ]
        }
      ]
    },
    {
      "cell_type": "code",
      "source": [
        "from __future__ import unicode_literals\n",
        "from hazm import *\n",
        "from keras.preprocessing import text\n",
        "from keras.preprocessing.sequence import skipgrams"
      ],
      "metadata": {
        "id": "R1t95jwN25P8"
      },
      "execution_count": 76,
      "outputs": []
    },
    {
      "cell_type": "markdown",
      "source": [
        "### **getting our corpes and stop words**"
      ],
      "metadata": {
        "id": "FxuszyHl3eQz"
      }
    },
    {
      "cell_type": "code",
      "execution_count": 77,
      "metadata": {
        "id": "LTDxjaSzJazK"
      },
      "outputs": [],
      "source": [
        "with open('/content/shams.txt') as f:\n",
        "  lines = f.readlines()\n",
        "\n",
        "with open('/content/stopwords.txt') as file:\n",
        "  stopLines = file.readlines()\n",
        "stopWord = [item.replace('\\n',\"\") for item in stopLines]\n",
        "  "
      ]
    },
    {
      "cell_type": "markdown",
      "source": [
        "### **cleaning our corpes by stop words**"
      ],
      "metadata": {
        "id": "RMjciJZD39CN"
      }
    },
    {
      "cell_type": "code",
      "execution_count": 88,
      "metadata": {
        "id": "1jjQItM2PfpF"
      },
      "outputs": [],
      "source": [
        "words= []\n",
        "for sent in lines :\n",
        "   words.append(word_tokenize(sent))\n",
        "\n",
        "corpes=[]\n",
        "for wordSent in words :\n",
        "  for word in wordSent :\n",
        "    if word in stopWord :\n",
        "      wordSent.remove(word)\n",
        "  corpes.append(' '.join(wordSent))\n"
      ]
    },
    {
      "cell_type": "markdown",
      "source": [
        "### **tokenize our corpes**"
      ],
      "metadata": {
        "id": "JUswmtBp42Am"
      }
    },
    {
      "cell_type": "code",
      "source": [
        "tokenizer = text.Tokenizer()\n",
        "tokenizer.fit_on_texts(corpes)\n",
        "\n",
        "word2id = tokenizer.word_index\n",
        "id2word = {v:k for k, v in word2id.items()}\n",
        "\n",
        "vocab_size = len(word2id) + 1 \n",
        "embed_size = 100\n",
        "\n",
        "sentencesID = [[word2id[w] for w in text.text_to_word_sequence(doc)] for doc in corpes]\n"
      ],
      "metadata": {
        "id": "sQ_hdg3iM7Eb"
      },
      "execution_count": 89,
      "outputs": []
    },
    {
      "cell_type": "markdown",
      "source": [
        "### **generate skip-grams**"
      ],
      "metadata": {
        "id": "bgG68Stu5Uu_"
      }
    },
    {
      "cell_type": "code",
      "source": [
        "skip_grams = [skipgrams(sentID, vocabulary_size=vocab_size, window_size=2) for sentID in sentencesID]\n"
      ],
      "metadata": {
        "id": "xaVL7hq2sB3i"
      },
      "execution_count": 90,
      "outputs": []
    },
    {
      "cell_type": "markdown",
      "source": [
        "## **Build the skip-gram model architecture**"
      ],
      "metadata": {
        "id": "IvmV1_FXGPRV"
      }
    },
    {
      "cell_type": "markdown",
      "source": [
        "### **librarys for skip-gram model architecture**"
      ],
      "metadata": {
        "id": "2bytYaGCGj9B"
      }
    },
    {
      "cell_type": "code",
      "source": [
        " from keras.preprocessing.sequence import skipgrams \n",
        " from keras.layers import *\n",
        " from keras.layers.core import Dense, Reshape\n",
        " from keras.layers.embeddings import Embedding\n",
        " from keras.models import Model,Sequential \n",
        " import numpy as np"
      ],
      "metadata": {
        "id": "ig5xuWPFGbMp"
      },
      "execution_count": 91,
      "outputs": []
    },
    {
      "cell_type": "markdown",
      "source": [
        "### **implementation**"
      ],
      "metadata": {
        "id": "jdGirKbrGxDk"
      }
    },
    {
      "cell_type": "code",
      "source": [
        "targetWord_model = Sequential()\n",
        "targetWord_model.add(Embedding(vocab_size, embed_size,\n",
        "                         embeddings_initializer=\"glorot_uniform\",\n",
        "                         input_length=1))\n",
        "targetWord_model.add(Reshape((embed_size, )))\n",
        "\n",
        "contextWord_model = Sequential()\n",
        "contextWord_model.add(Embedding(vocab_size, embed_size,\n",
        "                  embeddings_initializer=\"glorot_uniform\",\n",
        "                  input_length=1))\n",
        "contextWord_model.add(Reshape((embed_size,)))\n",
        "\n",
        "\n",
        "\n",
        "merged_output = add([targetWord_model.output, contextWord_model.output]) \n",
        "model_combined = Sequential()\n",
        "model_combined.add(Dense(1, kernel_initializer=\"glorot_uniform\", activation=\"sigmoid\"))\n",
        "final_model = Model([targetWord_model.input, contextWord_model.input], model_combined(merged_output))\n",
        "final_model.compile(loss=\"mean_squared_error\", optimizer=\"rmsprop\")\n",
        "final_model.summary()"
      ],
      "metadata": {
        "colab": {
          "base_uri": "https://localhost:8080/"
        },
        "id": "yIrPvPB9G3Xl",
        "outputId": "821dee81-9b72-42cf-d311-d79f2a2fc093"
      },
      "execution_count": 92,
      "outputs": [
        {
          "output_type": "stream",
          "name": "stdout",
          "text": [
            "Model: \"model_5\"\n",
            "__________________________________________________________________________________________________\n",
            " Layer (type)                   Output Shape         Param #     Connected to                     \n",
            "==================================================================================================\n",
            " embedding_22_input (InputLayer  [(None, 1)]         0           []                               \n",
            " )                                                                                                \n",
            "                                                                                                  \n",
            " embedding_23_input (InputLayer  [(None, 1)]         0           []                               \n",
            " )                                                                                                \n",
            "                                                                                                  \n",
            " embedding_22 (Embedding)       (None, 1, 100)       1041900     ['embedding_22_input[0][0]']     \n",
            "                                                                                                  \n",
            " embedding_23 (Embedding)       (None, 1, 100)       1041900     ['embedding_23_input[0][0]']     \n",
            "                                                                                                  \n",
            " reshape_22 (Reshape)           (None, 100)          0           ['embedding_22[0][0]']           \n",
            "                                                                                                  \n",
            " reshape_23 (Reshape)           (None, 100)          0           ['embedding_23[0][0]']           \n",
            "                                                                                                  \n",
            " add_5 (Add)                    (None, 100)          0           ['reshape_22[0][0]',             \n",
            "                                                                  'reshape_23[0][0]']             \n",
            "                                                                                                  \n",
            " sequential_33 (Sequential)     (None, 1)            101         ['add_5[0][0]']                  \n",
            "                                                                                                  \n",
            "==================================================================================================\n",
            "Total params: 2,083,901\n",
            "Trainable params: 2,083,901\n",
            "Non-trainable params: 0\n",
            "__________________________________________________________________________________________________\n"
          ]
        }
      ]
    },
    {
      "cell_type": "markdown",
      "source": [
        "## **train the model**"
      ],
      "metadata": {
        "id": "rmwItZhIXkWc"
      }
    },
    {
      "cell_type": "code",
      "source": [
        "\n",
        "for epoch in range(1, 6):\n",
        "     loss = 0\n",
        "     for i, elem in enumerate(skip_grams):\n",
        "         pair_first_elem = np.array(list(zip(*elem[0]))[0], dtype='int32')\n",
        "         pair_second_elem = np.array(list(zip(*elem[0]))[1], dtype='int32')\n",
        "         labels = np.array(elem[1], dtype='int32')\n",
        "         X = [pair_first_elem, pair_second_elem]\n",
        "         Y = labels\n",
        "         if i % 10000 == 0:\n",
        "             print('Processed {} (skip_first, skip_second, relevance) pairs'.format(i))\n",
        "         loss += final_model.train_on_batch(X,Y)  \n",
        "\n",
        "     print('Epoch:', epoch, 'Loss:', loss)"
      ],
      "metadata": {
        "colab": {
          "base_uri": "https://localhost:8080/"
        },
        "id": "FpJa_0fvXqKQ",
        "outputId": "6d423a19-4b36-4a2e-ad48-c61e458cf975"
      },
      "execution_count": 96,
      "outputs": [
        {
          "output_type": "stream",
          "name": "stdout",
          "text": [
            "Processed 0 (skip_first, skip_second, relevance) pairs\n",
            "Epoch: 1 Loss: 816.8299669250846\n",
            "Processed 0 (skip_first, skip_second, relevance) pairs\n",
            "Epoch: 2 Loss: 801.4483801852912\n",
            "Processed 0 (skip_first, skip_second, relevance) pairs\n",
            "Epoch: 3 Loss: 795.1650541406125\n",
            "Processed 0 (skip_first, skip_second, relevance) pairs\n",
            "Epoch: 4 Loss: 791.6809043437243\n",
            "Processed 0 (skip_first, skip_second, relevance) pairs\n",
            "Epoch: 5 Loss: 789.4506377577782\n"
          ]
        }
      ]
    }
  ],
  "metadata": {
    "colab": {
      "collapsed_sections": [],
      "name": "NLP_2wec.ipynb",
      "provenance": [],
      "authorship_tag": "ABX9TyMYl7gF6CVBgIgLI8jDR5sz",
      "include_colab_link": true
    },
    "kernelspec": {
      "display_name": "Python 3",
      "name": "python3"
    },
    "language_info": {
      "name": "python"
    }
  },
  "nbformat": 4,
  "nbformat_minor": 0
}